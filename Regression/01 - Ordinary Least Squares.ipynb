{
 "cells": [
  {
   "cell_type": "markdown",
   "id": "f1cf0e93",
   "metadata": {},
   "source": [
    "### Importing the libraries"
   ]
  },
  {
   "cell_type": "code",
   "execution_count": null,
   "id": "8aa8b7e5",
   "metadata": {},
   "outputs": [],
   "source": [
    "import numpy as np\n",
    "import pandas as pd\n",
    "from sklearn.model_selection import train_test_split\n",
    "from sklearn.linear_model import LinearRegression\n",
    "from sklearn.metrics import mean_squared_error, r2_score\n",
    "from sklearn.datasets import fetch_california_housing"
   ]
  },
  {
   "cell_type": "markdown",
   "id": "743238d3",
   "metadata": {},
   "source": [
    "### Load the Boston housing dataset"
   ]
  },
  {
   "cell_type": "code",
   "execution_count": null,
   "id": "5bf1c650",
   "metadata": {},
   "outputs": [],
   "source": [
    "housing = fetch_california_housing()\n",
    "print(housing.DESCR)"
   ]
  },
  {
   "cell_type": "code",
   "execution_count": null,
   "id": "4d8b8d04",
   "metadata": {},
   "outputs": [],
   "source": [
    "y=pd.DataFrame(housing.target,columns=housing.target_names)\n",
    "X=pd.DataFrame(housing.data,columns=housing.feature_names)"
   ]
  },
  {
   "cell_type": "code",
   "execution_count": null,
   "id": "022b1b87",
   "metadata": {},
   "outputs": [],
   "source": [
    "X.head(3)"
   ]
  },
  {
   "cell_type": "code",
   "execution_count": null,
   "id": "4b8928ab",
   "metadata": {},
   "outputs": [],
   "source": [
    "y.head(3)"
   ]
  },
  {
   "cell_type": "markdown",
   "id": "790bff3d",
   "metadata": {},
   "source": [
    "### Split the dataset into training and test sets"
   ]
  },
  {
   "cell_type": "code",
   "execution_count": null,
   "id": "65a41eba",
   "metadata": {},
   "outputs": [],
   "source": [
    "# Split the dataset into training and test sets\n",
    "X_train, X_test, y_train, y_test = train_test_split(X, y, test_size=0.2, random_state=42)"
   ]
  },
  {
   "cell_type": "markdown",
   "id": "0e7c1c46",
   "metadata": {},
   "source": [
    "### Add a column of ones to include the intercept term"
   ]
  },
  {
   "cell_type": "code",
   "execution_count": null,
   "id": "ce59b8ea",
   "metadata": {},
   "outputs": [],
   "source": [
    "X_train = np.hstack((np.ones((X_train.shape[0], 1)), X_train))\n",
    "X_test = np.hstack((np.ones((X_test.shape[0], 1)), X_test))"
   ]
  },
  {
   "cell_type": "markdown",
   "id": "4871ed92",
   "metadata": {},
   "source": [
    "### Implementing OLS regression manually\n",
    "### Calculate the coefficients using the normal equation: beta = (X^T * X)^-1 * X^T * y"
   ]
  },
  {
   "cell_type": "code",
   "execution_count": null,
   "id": "66f38988",
   "metadata": {},
   "outputs": [],
   "source": [
    "XtX = np.dot(X_train.T, X_train)\n",
    "XtX_inv = np.linalg.inv(XtX)\n",
    "Xty = np.dot(X_train.T, y_train)\n",
    "beta = np.dot(XtX_inv, Xty)"
   ]
  },
  {
   "cell_type": "code",
   "execution_count": null,
   "id": "06d27fd7",
   "metadata": {},
   "outputs": [],
   "source": [
    "y_pred_manual = np.dot(X_test, beta)"
   ]
  },
  {
   "cell_type": "markdown",
   "id": "16422166",
   "metadata": {},
   "source": [
    "### Evaluate the manual OLS model"
   ]
  },
  {
   "cell_type": "code",
   "execution_count": null,
   "id": "553fb5f3",
   "metadata": {},
   "outputs": [],
   "source": [
    "mse_manual = mean_squared_error(y_test, y_pred_manual)\n",
    "r2_manual = r2_score(y_test, y_pred_manual)\n",
    "\n",
    "print(\"Manual OLS Regression\")\n",
    "print(\"Coefficients:\", beta)\n",
    "print(\"Mean Squared Error:\", mse_manual)\n",
    "print(\"R^2 Score:\", r2_manual)"
   ]
  },
  {
   "cell_type": "markdown",
   "id": "e6990044",
   "metadata": {},
   "source": [
    "### Using sklearn's Linear Regression model for comparison"
   ]
  },
  {
   "cell_type": "code",
   "execution_count": null,
   "id": "c4fe34d4",
   "metadata": {},
   "outputs": [],
   "source": [
    "lin_reg = LinearRegression()\n",
    "lin_reg.fit(X_train, y_train)\n",
    "y_pred_sklearn = lin_reg.predict(X_test)"
   ]
  },
  {
   "cell_type": "markdown",
   "id": "e5c05c1b",
   "metadata": {},
   "source": [
    "### Evaluate the sklearn model"
   ]
  },
  {
   "cell_type": "code",
   "execution_count": null,
   "id": "c8b115d7",
   "metadata": {},
   "outputs": [],
   "source": [
    "mse_sklearn = mean_squared_error(y_test, y_pred_sklearn)\n",
    "r2_sklearn = r2_score(y_test, y_pred_sklearn)\n",
    "\n",
    "print(\"\\nSklearn Linear Regression\")\n",
    "print(\"Coefficients:\", lin_reg.coef_)\n",
    "print(\"Mean Squared Error:\", mse_sklearn)\n",
    "print(\"R^2 Score:\", r2_sklearn)"
   ]
  }
 ],
 "metadata": {
  "kernelspec": {
   "display_name": "Python 3 (ipykernel)",
   "language": "python",
   "name": "python3"
  },
  "language_info": {
   "codemirror_mode": {
    "name": "ipython",
    "version": 3
   },
   "file_extension": ".py",
   "mimetype": "text/x-python",
   "name": "python",
   "nbconvert_exporter": "python",
   "pygments_lexer": "ipython3",
   "version": "3.11.7"
  }
 },
 "nbformat": 4,
 "nbformat_minor": 5
}
