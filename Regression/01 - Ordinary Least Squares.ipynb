{
 "cells": [
  {
   "cell_type": "markdown",
   "id": "f14631f9",
   "metadata": {},
   "source": [
    "### Importing the libraries"
   ]
  },
  {
   "cell_type": "code",
   "execution_count": 50,
   "id": "dd385985",
   "metadata": {},
   "outputs": [],
   "source": [
    "import numpy as np\n",
    "import pandas as pd\n",
    "from sklearn.model_selection import train_test_split\n",
    "from sklearn.linear_model import LinearRegression\n",
    "from sklearn.metrics import mean_squared_error, r2_score"
   ]
  },
  {
   "cell_type": "markdown",
   "id": "32ef14d7",
   "metadata": {},
   "source": [
    "### Load the Boston housing dataset"
   ]
  },
  {
   "cell_type": "code",
   "execution_count": 51,
   "id": "96a7bcf3",
   "metadata": {},
   "outputs": [
    {
     "name": "stdout",
     "output_type": "stream",
     "text": [
      ".. _california_housing_dataset:\n",
      "\n",
      "California Housing dataset\n",
      "--------------------------\n",
      "\n",
      "**Data Set Characteristics:**\n",
      "\n",
      "    :Number of Instances: 20640\n",
      "\n",
      "    :Number of Attributes: 8 numeric, predictive attributes and the target\n",
      "\n",
      "    :Attribute Information:\n",
      "        - MedInc        median income in block group\n",
      "        - HouseAge      median house age in block group\n",
      "        - AveRooms      average number of rooms per household\n",
      "        - AveBedrms     average number of bedrooms per household\n",
      "        - Population    block group population\n",
      "        - AveOccup      average number of household members\n",
      "        - Latitude      block group latitude\n",
      "        - Longitude     block group longitude\n",
      "\n",
      "    :Missing Attribute Values: None\n",
      "\n",
      "This dataset was obtained from the StatLib repository.\n",
      "https://www.dcc.fc.up.pt/~ltorgo/Regression/cal_housing.html\n",
      "\n",
      "The target variable is the median house value for California districts,\n",
      "expressed in hundreds of thousands of dollars ($100,000).\n",
      "\n",
      "This dataset was derived from the 1990 U.S. census, using one row per census\n",
      "block group. A block group is the smallest geographical unit for which the U.S.\n",
      "Census Bureau publishes sample data (a block group typically has a population\n",
      "of 600 to 3,000 people).\n",
      "\n",
      "A household is a group of people residing within a home. Since the average\n",
      "number of rooms and bedrooms in this dataset are provided per household, these\n",
      "columns may take surprisingly large values for block groups with few households\n",
      "and many empty houses, such as vacation resorts.\n",
      "\n",
      "It can be downloaded/loaded using the\n",
      ":func:`sklearn.datasets.fetch_california_housing` function.\n",
      "\n",
      ".. topic:: References\n",
      "\n",
      "    - Pace, R. Kelley and Ronald Barry, Sparse Spatial Autoregressions,\n",
      "      Statistics and Probability Letters, 33 (1997) 291-297\n",
      "\n"
     ]
    }
   ],
   "source": [
    "from sklearn.datasets import fetch_california_housing\n",
    "housing = fetch_california_housing()\n",
    "print(housing.DESCR)"
   ]
  },
  {
   "cell_type": "code",
   "execution_count": 52,
   "id": "488bff60",
   "metadata": {},
   "outputs": [],
   "source": [
    "y=pd.DataFrame(housing.target,columns=housing.target_names)\n",
    "X=pd.DataFrame(housing.data,columns=housing.feature_names)"
   ]
  },
  {
   "cell_type": "code",
   "execution_count": 53,
   "id": "a28fa5e1",
   "metadata": {},
   "outputs": [
    {
     "data": {
      "text/html": [
       "<div>\n",
       "<style scoped>\n",
       "    .dataframe tbody tr th:only-of-type {\n",
       "        vertical-align: middle;\n",
       "    }\n",
       "\n",
       "    .dataframe tbody tr th {\n",
       "        vertical-align: top;\n",
       "    }\n",
       "\n",
       "    .dataframe thead th {\n",
       "        text-align: right;\n",
       "    }\n",
       "</style>\n",
       "<table border=\"1\" class=\"dataframe\">\n",
       "  <thead>\n",
       "    <tr style=\"text-align: right;\">\n",
       "      <th></th>\n",
       "      <th>MedInc</th>\n",
       "      <th>HouseAge</th>\n",
       "      <th>AveRooms</th>\n",
       "      <th>AveBedrms</th>\n",
       "      <th>Population</th>\n",
       "      <th>AveOccup</th>\n",
       "      <th>Latitude</th>\n",
       "      <th>Longitude</th>\n",
       "    </tr>\n",
       "  </thead>\n",
       "  <tbody>\n",
       "    <tr>\n",
       "      <th>0</th>\n",
       "      <td>8.3252</td>\n",
       "      <td>41.0</td>\n",
       "      <td>6.984127</td>\n",
       "      <td>1.023810</td>\n",
       "      <td>322.0</td>\n",
       "      <td>2.555556</td>\n",
       "      <td>37.88</td>\n",
       "      <td>-122.23</td>\n",
       "    </tr>\n",
       "    <tr>\n",
       "      <th>1</th>\n",
       "      <td>8.3014</td>\n",
       "      <td>21.0</td>\n",
       "      <td>6.238137</td>\n",
       "      <td>0.971880</td>\n",
       "      <td>2401.0</td>\n",
       "      <td>2.109842</td>\n",
       "      <td>37.86</td>\n",
       "      <td>-122.22</td>\n",
       "    </tr>\n",
       "    <tr>\n",
       "      <th>2</th>\n",
       "      <td>7.2574</td>\n",
       "      <td>52.0</td>\n",
       "      <td>8.288136</td>\n",
       "      <td>1.073446</td>\n",
       "      <td>496.0</td>\n",
       "      <td>2.802260</td>\n",
       "      <td>37.85</td>\n",
       "      <td>-122.24</td>\n",
       "    </tr>\n",
       "  </tbody>\n",
       "</table>\n",
       "</div>"
      ],
      "text/plain": [
       "   MedInc  HouseAge  AveRooms  AveBedrms  Population  AveOccup  Latitude  \\\n",
       "0  8.3252      41.0  6.984127   1.023810       322.0  2.555556     37.88   \n",
       "1  8.3014      21.0  6.238137   0.971880      2401.0  2.109842     37.86   \n",
       "2  7.2574      52.0  8.288136   1.073446       496.0  2.802260     37.85   \n",
       "\n",
       "   Longitude  \n",
       "0    -122.23  \n",
       "1    -122.22  \n",
       "2    -122.24  "
      ]
     },
     "execution_count": 53,
     "metadata": {},
     "output_type": "execute_result"
    }
   ],
   "source": [
    "X.head(3)"
   ]
  },
  {
   "cell_type": "code",
   "execution_count": 54,
   "id": "f6af2e19",
   "metadata": {},
   "outputs": [
    {
     "data": {
      "text/html": [
       "<div>\n",
       "<style scoped>\n",
       "    .dataframe tbody tr th:only-of-type {\n",
       "        vertical-align: middle;\n",
       "    }\n",
       "\n",
       "    .dataframe tbody tr th {\n",
       "        vertical-align: top;\n",
       "    }\n",
       "\n",
       "    .dataframe thead th {\n",
       "        text-align: right;\n",
       "    }\n",
       "</style>\n",
       "<table border=\"1\" class=\"dataframe\">\n",
       "  <thead>\n",
       "    <tr style=\"text-align: right;\">\n",
       "      <th></th>\n",
       "      <th>MedHouseVal</th>\n",
       "    </tr>\n",
       "  </thead>\n",
       "  <tbody>\n",
       "    <tr>\n",
       "      <th>0</th>\n",
       "      <td>4.526</td>\n",
       "    </tr>\n",
       "    <tr>\n",
       "      <th>1</th>\n",
       "      <td>3.585</td>\n",
       "    </tr>\n",
       "    <tr>\n",
       "      <th>2</th>\n",
       "      <td>3.521</td>\n",
       "    </tr>\n",
       "  </tbody>\n",
       "</table>\n",
       "</div>"
      ],
      "text/plain": [
       "   MedHouseVal\n",
       "0        4.526\n",
       "1        3.585\n",
       "2        3.521"
      ]
     },
     "execution_count": 54,
     "metadata": {},
     "output_type": "execute_result"
    }
   ],
   "source": [
    "y.head(3)"
   ]
  },
  {
   "cell_type": "markdown",
   "id": "b6a5cf74",
   "metadata": {},
   "source": [
    "### Split the dataset into training and test sets"
   ]
  },
  {
   "cell_type": "code",
   "execution_count": 55,
   "id": "65a41eba",
   "metadata": {},
   "outputs": [],
   "source": [
    "# Split the dataset into training and test sets\n",
    "X_train, X_test, y_train, y_test = train_test_split(X, y, test_size=0.2, random_state=42)"
   ]
  },
  {
   "cell_type": "markdown",
   "id": "8baa7728",
   "metadata": {},
   "source": [
    "### Add a column of ones to include the intercept term"
   ]
  },
  {
   "cell_type": "code",
   "execution_count": 56,
   "id": "400cb109",
   "metadata": {},
   "outputs": [],
   "source": [
    "X_train = np.hstack((np.ones((X_train.shape[0], 1)), X_train))\n",
    "X_test = np.hstack((np.ones((X_test.shape[0], 1)), X_test))"
   ]
  },
  {
   "cell_type": "markdown",
   "id": "8b8d0f76",
   "metadata": {},
   "source": [
    "### Implementing OLS regression manually\n",
    "### Calculate the coefficients using the normal equation: beta = (X^T * X)^-1 * X^T * y"
   ]
  },
  {
   "cell_type": "code",
   "execution_count": 57,
   "id": "4adffa02",
   "metadata": {},
   "outputs": [],
   "source": [
    "XtX = np.dot(X_train.T, X_train)\n",
    "XtX_inv = np.linalg.inv(XtX)\n",
    "Xty = np.dot(X_train.T, y_train)\n",
    "beta = np.dot(XtX_inv, Xty)"
   ]
  },
  {
   "cell_type": "code",
   "execution_count": 58,
   "id": "7e106e32",
   "metadata": {},
   "outputs": [],
   "source": [
    "y_pred_manual = np.dot(X_test, beta)"
   ]
  },
  {
   "cell_type": "markdown",
   "id": "21a557de",
   "metadata": {},
   "source": [
    "### Evaluate the manual OLS model"
   ]
  },
  {
   "cell_type": "code",
   "execution_count": 62,
   "id": "f1fff324",
   "metadata": {},
   "outputs": [
    {
     "name": "stdout",
     "output_type": "stream",
     "text": [
      "Manual OLS Regression\n",
      "Coefficients: [[-3.70232777e+01]\n",
      " [ 4.48674910e-01]\n",
      " [ 9.72425752e-03]\n",
      " [-1.23323343e-01]\n",
      " [ 7.83144907e-01]\n",
      " [-2.02962058e-06]\n",
      " [-3.52631849e-03]\n",
      " [-4.19792487e-01]\n",
      " [-4.33708065e-01]]\n",
      "Mean Squared Error: 0.5558915986948996\n",
      "R^2 Score: 0.5757877060327139\n"
     ]
    }
   ],
   "source": [
    "mse_manual = mean_squared_error(y_test, y_pred_manual)\n",
    "r2_manual = r2_score(y_test, y_pred_manual)\n",
    "\n",
    "print(\"Manual OLS Regression\")\n",
    "print(\"Coefficients:\", beta)\n",
    "print(\"Mean Squared Error:\", mse_manual)\n",
    "print(\"R^2 Score:\", r2_manual)"
   ]
  },
  {
   "cell_type": "markdown",
   "id": "828de314",
   "metadata": {},
   "source": [
    "### Using sklearn's Linear Regression model for comparison"
   ]
  },
  {
   "cell_type": "code",
   "execution_count": 60,
   "id": "47f4f42e",
   "metadata": {},
   "outputs": [],
   "source": [
    "lin_reg = LinearRegression()\n",
    "lin_reg.fit(X_train, y_train)\n",
    "y_pred_sklearn = lin_reg.predict(X_test)"
   ]
  },
  {
   "cell_type": "markdown",
   "id": "544b3104",
   "metadata": {},
   "source": [
    "### Evaluate the sklearn model"
   ]
  },
  {
   "cell_type": "code",
   "execution_count": 63,
   "id": "9a2d150f",
   "metadata": {},
   "outputs": [
    {
     "name": "stdout",
     "output_type": "stream",
     "text": [
      "\n",
      "Sklearn Linear Regression\n",
      "Coefficients: [[ 0.00000000e+00  4.48674910e-01  9.72425752e-03 -1.23323343e-01\n",
      "   7.83144907e-01 -2.02962058e-06 -3.52631849e-03 -4.19792487e-01\n",
      "  -4.33708065e-01]]\n",
      "Mean Squared Error: 0.5558915986952455\n",
      "R^2 Score: 0.5757877060324499\n"
     ]
    }
   ],
   "source": [
    "mse_sklearn = mean_squared_error(y_test, y_pred_sklearn)\n",
    "r2_sklearn = r2_score(y_test, y_pred_sklearn)\n",
    "\n",
    "print(\"\\nSklearn Linear Regression\")\n",
    "print(\"Coefficients:\", lin_reg.coef_)\n",
    "print(\"Mean Squared Error:\", mse_sklearn)\n",
    "print(\"R^2 Score:\", r2_sklearn)"
   ]
  }
 ],
 "metadata": {
  "kernelspec": {
   "display_name": "Python 3 (ipykernel)",
   "language": "python",
   "name": "python3"
  },
  "language_info": {
   "codemirror_mode": {
    "name": "ipython",
    "version": 3
   },
   "file_extension": ".py",
   "mimetype": "text/x-python",
   "name": "python",
   "nbconvert_exporter": "python",
   "pygments_lexer": "ipython3",
   "version": "3.11.7"
  }
 },
 "nbformat": 4,
 "nbformat_minor": 5
}
