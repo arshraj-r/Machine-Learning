{
 "cells": [
  {
   "cell_type": "markdown",
   "id": "4f1b6e72",
   "metadata": {},
   "source": [
    "### Importing the libraries"
   ]
  },
  {
   "cell_type": "code",
   "execution_count": null,
   "id": "62a919ac",
   "metadata": {},
   "outputs": [],
   "source": [
    "import numpy as np\n",
    "import pandas as pd\n",
    "from sklearn.model_selection import train_test_split\n",
    "from sklearn.linear_model import LinearRegression\n",
    "from sklearn.metrics import mean_squared_error, r2_score"
   ]
  },
  {
   "cell_type": "markdown",
   "id": "f9b3e8a4",
   "metadata": {},
   "source": [
    "### Load the Boston housing dataset"
   ]
  },
  {
   "cell_type": "code",
   "execution_count": null,
   "id": "44e1ea03",
   "metadata": {},
   "outputs": [],
   "source": [
    "from sklearn.datasets import fetch_california_housing\n",
    "housing = fetch_california_housing()\n",
    "print(housing.DESCR)"
   ]
  },
  {
   "cell_type": "code",
   "execution_count": null,
   "id": "0037db64",
   "metadata": {},
   "outputs": [],
   "source": [
    "y=pd.DataFrame(housing.target,columns=housing.target_names)\n",
    "X=pd.DataFrame(housing.data,columns=housing.feature_names)"
   ]
  },
  {
   "cell_type": "code",
   "execution_count": null,
   "id": "5d745f0d",
   "metadata": {},
   "outputs": [],
   "source": [
    "X.head(3)"
   ]
  },
  {
   "cell_type": "code",
   "execution_count": null,
   "id": "ba9c1de8",
   "metadata": {},
   "outputs": [],
   "source": [
    "y.head(3)"
   ]
  },
  {
   "cell_type": "markdown",
   "id": "b0c09611",
   "metadata": {},
   "source": [
    "### Split the dataset into training and test sets"
   ]
  },
  {
   "cell_type": "code",
   "execution_count": null,
   "id": "65a41eba",
   "metadata": {},
   "outputs": [],
   "source": [
    "# Split the dataset into training and test sets\n",
    "X_train, X_test, y_train, y_test = train_test_split(X, y, test_size=0.2, random_state=42)"
   ]
  },
  {
   "cell_type": "markdown",
   "id": "6eaaacac",
   "metadata": {},
   "source": [
    "### Add a column of ones to include the intercept term"
   ]
  },
  {
   "cell_type": "code",
   "execution_count": null,
   "id": "c37c7c4a",
   "metadata": {},
   "outputs": [],
   "source": [
    "X_train = np.hstack((np.ones((X_train.shape[0], 1)), X_train))\n",
    "X_test = np.hstack((np.ones((X_test.shape[0], 1)), X_test))"
   ]
  },
  {
   "cell_type": "markdown",
   "id": "1403b9d5",
   "metadata": {},
   "source": [
    "### Implementing OLS regression manually\n",
    "### Calculate the coefficients using the normal equation: beta = (X^T * X)^-1 * X^T * y"
   ]
  },
  {
   "cell_type": "code",
   "execution_count": null,
   "id": "ca6cbbcb",
   "metadata": {},
   "outputs": [],
   "source": [
    "XtX = np.dot(X_train.T, X_train)\n",
    "XtX_inv = np.linalg.inv(XtX)\n",
    "Xty = np.dot(X_train.T, y_train)\n",
    "beta = np.dot(XtX_inv, Xty)"
   ]
  },
  {
   "cell_type": "code",
   "execution_count": null,
   "id": "0ea03faa",
   "metadata": {},
   "outputs": [],
   "source": [
    "y_pred_manual = np.dot(X_test, beta)"
   ]
  },
  {
   "cell_type": "markdown",
   "id": "f09a3185",
   "metadata": {},
   "source": [
    "### Evaluate the manual OLS model"
   ]
  },
  {
   "cell_type": "code",
   "execution_count": null,
   "id": "bef132df",
   "metadata": {},
   "outputs": [],
   "source": [
    "mse_manual = mean_squared_error(y_test, y_pred_manual)\n",
    "r2_manual = r2_score(y_test, y_pred_manual)\n",
    "\n",
    "print(\"Manual OLS Regression\")\n",
    "print(\"Coefficients:\", beta)\n",
    "print(\"Mean Squared Error:\", mse_manual)\n",
    "print(\"R^2 Score:\", r2_manual)"
   ]
  },
  {
   "cell_type": "markdown",
   "id": "f05210e7",
   "metadata": {},
   "source": [
    "### Using sklearn's Linear Regression model for comparison"
   ]
  },
  {
   "cell_type": "code",
   "execution_count": null,
   "id": "5f158c8b",
   "metadata": {},
   "outputs": [],
   "source": [
    "lin_reg = LinearRegression()\n",
    "lin_reg.fit(X_train, y_train)\n",
    "y_pred_sklearn = lin_reg.predict(X_test)"
   ]
  },
  {
   "cell_type": "markdown",
   "id": "22956ae3",
   "metadata": {},
   "source": [
    "### Evaluate the sklearn model"
   ]
  },
  {
   "cell_type": "code",
   "execution_count": null,
   "id": "0741d053",
   "metadata": {},
   "outputs": [],
   "source": [
    "mse_sklearn = mean_squared_error(y_test, y_pred_sklearn)\n",
    "r2_sklearn = r2_score(y_test, y_pred_sklearn)\n",
    "\n",
    "print(\"\\nSklearn Linear Regression\")\n",
    "print(\"Coefficients:\", lin_reg.coef_)\n",
    "print(\"Mean Squared Error:\", mse_sklearn)\n",
    "print(\"R^2 Score:\", r2_sklearn)"
   ]
  }
 ],
 "metadata": {
  "kernelspec": {
   "display_name": "Python 3 (ipykernel)",
   "language": "python",
   "name": "python3"
  },
  "language_info": {
   "codemirror_mode": {
    "name": "ipython",
    "version": 3
   },
   "file_extension": ".py",
   "mimetype": "text/x-python",
   "name": "python",
   "nbconvert_exporter": "python",
   "pygments_lexer": "ipython3",
   "version": "3.11.7"
  }
 },
 "nbformat": 4,
 "nbformat_minor": 5
}
